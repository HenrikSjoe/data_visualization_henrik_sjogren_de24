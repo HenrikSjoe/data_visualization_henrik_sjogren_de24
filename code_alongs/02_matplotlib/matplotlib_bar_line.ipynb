{
 "cells": [
  {
   "cell_type": "markdown",
   "id": "bc45f0bc",
   "metadata": {},
   "source": [
    "# Matplotlib funadamentals"
   ]
  },
  {
   "cell_type": "code",
   "execution_count": null,
   "id": "8f98ede2",
   "metadata": {},
   "outputs": [],
   "source": []
  }
 ],
 "metadata": {
  "kernelspec": {
   "display_name": ".venv",
   "language": "python",
   "name": "python3"
  },
  "language_info": {
   "name": "python",
   "version": "3.12.5"
  }
 },
 "nbformat": 4,
 "nbformat_minor": 5
}
